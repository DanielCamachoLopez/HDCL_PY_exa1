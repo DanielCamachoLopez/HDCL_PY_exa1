{
  "nbformat": 4,
  "nbformat_minor": 0,
  "metadata": {
    "colab": {
      "provenance": [],
      "authorship_tag": "ABX9TyNXjDSUhQOqbHb2JypfXXD7",
      "include_colab_link": true
    },
    "kernelspec": {
      "name": "python3",
      "display_name": "Python 3"
    },
    "language_info": {
      "name": "python"
    }
  },
  "cells": [
    {
      "cell_type": "markdown",
      "metadata": {
        "id": "view-in-github",
        "colab_type": "text"
      },
      "source": [
        "<a href=\"https://colab.research.google.com/github/DanielCamachoLopez/HDCL_PY_exa1/blob/main/Pregunta_23_HDCL.ipynb\" target=\"_parent\"><img src=\"https://colab.research.google.com/assets/colab-badge.svg\" alt=\"Open In Colab\"/></a>"
      ]
    },
    {
      "cell_type": "code",
      "execution_count": 12,
      "metadata": {
        "id": "C_d_2cyMJqZU"
      },
      "outputs": [],
      "source": [
        "def valida_num(rangoi, rangof, n):\n",
        "  x = 1\n",
        "  if n > rangof:\n",
        "    print(\"El numero es muy grande\")\n",
        "    x = 0\n",
        "  if n < rangoi:\n",
        "    print(\"El numero es muy pequeño\")\n",
        "    x = 0\n",
        "  return x"
      ]
    },
    {
      "cell_type": "code",
      "source": [
        "try:\n",
        "  z = 1\n",
        "  while z == 1:\n",
        "    numero = int(input(\"Dame un numero ENTERO, por favor: \"))\n",
        "    z = valida_num(10, 100, numero)\n",
        "    if z == 0:\n",
        "      break\n",
        "    else:\n",
        "      print(\"Gracias por digitarlo correctamente\")\n",
        "\n",
        "except:\n",
        "    print(\"ERROR, solo ingresa numeros ENTEROS, no letras ni caracteres especiales\")"
      ],
      "metadata": {
        "id": "aSMceQmBKyr4"
      },
      "execution_count": null,
      "outputs": []
    }
  ]
}