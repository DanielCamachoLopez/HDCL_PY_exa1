{
  "nbformat": 4,
  "nbformat_minor": 0,
  "metadata": {
    "colab": {
      "provenance": [],
      "authorship_tag": "ABX9TyOuNzU+fEXE9ppDclqQO1rl",
      "include_colab_link": true
    },
    "kernelspec": {
      "name": "python3",
      "display_name": "Python 3"
    },
    "language_info": {
      "name": "python"
    }
  },
  "cells": [
    {
      "cell_type": "markdown",
      "metadata": {
        "id": "view-in-github",
        "colab_type": "text"
      },
      "source": [
        "<a href=\"https://colab.research.google.com/github/DanielCamachoLopez/HDCL_PY_exa1/blob/main/Pregunta2_HDCL.ipynb\" target=\"_parent\"><img src=\"https://colab.research.google.com/assets/colab-badge.svg\" alt=\"Open In Colab\"/></a>"
      ]
    },
    {
      "cell_type": "code",
      "source": [
        "import random\n",
        "def numero():\n",
        "    aleat = []\n",
        "    i = 0\n",
        "    while i < 30:\n",
        "      num = random.randint(20, 100)\n",
        "      if num not in aleat:\n",
        "        aleat.append(num)\n",
        "        i = i + 1\n",
        "    return aleat"
      ],
      "metadata": {
        "id": "kSJ-Rj76CuHN"
      },
      "execution_count": 31,
      "outputs": []
    },
    {
      "cell_type": "code",
      "source": [
        "def imprimir(lista):\n",
        "\n",
        "  for i, elemento in enumerate(lista):\n",
        "    print(f\"{i + 1} - {elemento}\")\n",
        "xnum = numero()\n",
        "imprimir(xnum)"
      ],
      "metadata": {
        "id": "Oe6IWmLYCvpL"
      },
      "execution_count": null,
      "outputs": []
    }
  ]
}