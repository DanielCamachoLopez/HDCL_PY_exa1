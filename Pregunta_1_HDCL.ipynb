{
  "nbformat": 4,
  "nbformat_minor": 0,
  "metadata": {
    "colab": {
      "provenance": [],
      "authorship_tag": "ABX9TyO3BuRAvp2IwPRJ3tA6wXYw",
      "include_colab_link": true
    },
    "kernelspec": {
      "name": "python3",
      "display_name": "Python 3"
    },
    "language_info": {
      "name": "python"
    }
  },
  "cells": [
    {
      "cell_type": "markdown",
      "metadata": {
        "id": "view-in-github",
        "colab_type": "text"
      },
      "source": [
        "<a href=\"https://colab.research.google.com/github/DanielCamachoLopez/HDCL_PY_exa1/blob/main/Pregunta_1_HDCL.ipynb\" target=\"_parent\"><img src=\"https://colab.research.google.com/assets/colab-badge.svg\" alt=\"Open In Colab\"/></a>"
      ]
    },
    {
      "cell_type": "markdown",
      "source": [
        "Pregunta 1"
      ],
      "metadata": {
        "id": "hHgK3Nwb5Jvd"
      }
    },
    {
      "cell_type": "code",
      "source": [
        "def factorial(num):\n",
        "  fact = 1\n",
        "  for i in range(1, num + 1):\n",
        "    fact = (i * fact)\n",
        "  print(fact)\n"
      ],
      "metadata": {
        "id": "4uLlaMhcPtg5"
      },
      "execution_count": 9,
      "outputs": []
    },
    {
      "cell_type": "code",
      "source": [
        "num = int(input(\"Dame un numero al cual le quieras sacar el factorial: \"))\n",
        "factorial(num)\n"
      ],
      "metadata": {
        "id": "L4SkQUjXPAN1"
      },
      "execution_count": null,
      "outputs": []
    }
  ]
}