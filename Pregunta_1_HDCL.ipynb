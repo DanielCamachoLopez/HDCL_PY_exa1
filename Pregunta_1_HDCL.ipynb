{
  "nbformat": 4,
  "nbformat_minor": 0,
  "metadata": {
    "colab": {
      "provenance": [],
      "authorship_tag": "ABX9TyOejLWxgP6GfHIfnXFpPDls",
      "include_colab_link": true
    },
    "kernelspec": {
      "name": "python3",
      "display_name": "Python 3"
    },
    "language_info": {
      "name": "python"
    }
  },
  "cells": [
    {
      "cell_type": "markdown",
      "metadata": {
        "id": "view-in-github",
        "colab_type": "text"
      },
      "source": [
        "<a href=\"https://colab.research.google.com/github/DanielCamachoLopez/HDCL_PY_exa1/blob/main/Pregunta_1_HDCL.ipynb\" target=\"_parent\"><img src=\"https://colab.research.google.com/assets/colab-badge.svg\" alt=\"Open In Colab\"/></a>"
      ]
    },
    {
      "cell_type": "markdown",
      "source": [
        "Pregunta 1"
      ],
      "metadata": {
        "id": "hHgK3Nwb5Jvd"
      }
    },
    {
      "cell_type": "code",
      "source": [
        "def facto(num):\n",
        "  for i in range (0, num):\n",
        "    numero = (num - i) * (num - i - 1)\n",
        "    result = numero\n",
        "  return result\n"
      ],
      "metadata": {
        "id": "bD3KrZR55Loj"
      },
      "execution_count": null,
      "outputs": []
    },
    {
      "cell_type": "code",
      "source": [
        "num = int(input(\"Dame un numero al cual le quieras sacar el factorial: \"))\n",
        "z = facto(num)\n",
        "print(z)\n"
      ],
      "metadata": {
        "id": "x6f2bHSy5sCc"
      },
      "execution_count": null,
      "outputs": []
    }
  ]
}